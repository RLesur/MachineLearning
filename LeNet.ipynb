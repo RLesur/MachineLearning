{
 "cells": [
  {
   "cell_type": "code",
   "execution_count": 1,
   "metadata": {
    "ExecuteTime": {
     "end_time": "2020-04-13T09:02:57.667382Z",
     "start_time": "2020-04-13T09:02:47.979570Z"
    }
   },
   "outputs": [
    {
     "name": "stderr",
     "output_type": "stream",
     "text": [
      "Using TensorFlow backend.\n"
     ]
    }
   ],
   "source": [
    "%matplotlib inline\n",
    "import numpy as np\n",
    "\n",
    "from keras.models import Sequential\n",
    "from keras.layers import Dense, Activation\n",
    "from keras.layers import Dropout\n",
    "from keras.layers import Flatten\n",
    "from keras.layers.convolutional import Conv2D\n",
    "from keras.layers.convolutional import MaxPooling2D\n",
    "from keras.utils import np_utils\n",
    "\n",
    "import matplotlib.pyplot as plt\n",
    "from matplotlib import cm\n",
    "\n",
    "from sklearn import metrics\n",
    "\n",
    "import itertools"
   ]
  },
  {
   "cell_type": "code",
   "execution_count": 2,
   "metadata": {
    "ExecuteTime": {
     "end_time": "2020-04-13T09:02:57.996951Z",
     "start_time": "2020-04-13T09:02:57.671699Z"
    }
   },
   "outputs": [
    {
     "name": "stdout",
     "output_type": "stream",
     "text": [
      "Shape of X: (60000, 784)\n",
      "Shape of y: (60000,)\n"
     ]
    }
   ],
   "source": [
    "# Pour importer le datasets mnist de Keras\n",
    "from keras.datasets.mnist import load_data\n",
    "\n",
    "# Chargement des données MNIST\n",
    "(X_train, y_train), (X_test, y_test) = load_data()\n",
    "\n",
    "# Changer la forme de X_train et X_test\n",
    "X_train = X_train.reshape([-1, 28*28])\n",
    "X_test = X_test.reshape([-1, 28*28])\n",
    "\n",
    "# Shape of X_train and y_train\n",
    "print('Shape of X:', X_train.shape)\n",
    "print('Shape of y:',y_train.shape)"
   ]
  },
  {
   "cell_type": "code",
   "execution_count": 3,
   "metadata": {
    "ExecuteTime": {
     "end_time": "2020-04-13T09:03:13.792069Z",
     "start_time": "2020-04-13T09:03:13.518526Z"
    }
   },
   "outputs": [],
   "source": [
    "X_train = X_train.reshape((-1, 28, 28, 1))\n",
    "X_test = X_test.reshape((-1, 28, 28, 1))\n",
    "X_train = X_train / 255\n",
    "X_test = X_test / 255\n",
    "\n",
    "y_train = np_utils.to_categorical(y_train)\n",
    "y_test = np_utils.to_categorical(y_test)"
   ]
  },
  {
   "cell_type": "markdown",
   "metadata": {},
   "source": [
    "> L'architecture du LeNet est constituée des couches suivantes:\n",
    ">> * **Convolution 1** : 30 filtres,  dimension d'entrée (28, 28, 1), dimension du noyau (5, 5), fonction d'activation *ReLU*, pas de dépassement du noyau.\n",
    ">> * **Max-Pooling 1** : dimension du pooling (2, 2).\n",
    ">>\n",
    ">> * **Convolution 2** : 16 filtres, dimension du noyau (3, 3), fonction d'activation *ReLU*, Pas de dépassement du noyau.\n",
    ">> * **Max-Pooling 2** : dimension du pooling (2, 2).\n",
    ">>\n",
    ">> * **Dropout** : Connexions coupées: 20%.\n",
    ">> * **Aplatissement**\n",
    ">> * **Dense 1** : 128 neurones, fonction d'activation *ReLU*.\n",
    ">> * **Dense 2** :  10 neurones, fonction d'activation *softmax*.\n",
    ">\n",
    ">  En image: <img src=\"https://datascientest.fr/train/assets/le_net.png\" style=\"width:auto; height:200px\" />\n",
    "\n",
    "* Instancier l'ensemble de ces couches et les ajouter à un modèle séquentiel.\n",
    "\n",
    "\n",
    "* Compiler le modèle avec la fonction de perte *'categorical_crossentropy'*, l'optimiseur *'adam'* et la métrique *[\"accuracy\"]*.\n",
    "\n",
    "\n",
    "* Entraîner le modèle avec les données d'entraînement sur 16 *epochs* avec des *batchs* de taille 200 et un *split* de validation de 0,2. Stocker la sortie de l'entraînement dans une variable nommée **training_history_lenet**.\n",
    "\n"
   ]
  },
  {
   "cell_type": "code",
   "execution_count": 4,
   "metadata": {
    "ExecuteTime": {
     "end_time": "2020-04-13T09:08:56.701981Z",
     "start_time": "2020-04-13T09:03:25.785448Z"
    }
   },
   "outputs": [
    {
     "name": "stdout",
     "output_type": "stream",
     "text": [
      "Train on 48000 samples, validate on 12000 samples\n",
      "Epoch 1/16\n",
      "48000/48000 [==============================] - 20s 415us/step - loss: 0.4343 - accuracy: 0.8692 - val_loss: 0.1139 - val_accuracy: 0.9671\n",
      "Epoch 2/16\n",
      "48000/48000 [==============================] - 20s 422us/step - loss: 0.1136 - accuracy: 0.9656 - val_loss: 0.0744 - val_accuracy: 0.9786\n",
      "Epoch 3/16\n",
      "48000/48000 [==============================] - 20s 416us/step - loss: 0.0795 - accuracy: 0.9759 - val_loss: 0.0567 - val_accuracy: 0.9829\n",
      "Epoch 4/16\n",
      "48000/48000 [==============================] - 19s 390us/step - loss: 0.0621 - accuracy: 0.9807 - val_loss: 0.0512 - val_accuracy: 0.9849\n",
      "Epoch 5/16\n",
      "48000/48000 [==============================] - 22s 453us/step - loss: 0.0524 - accuracy: 0.9835 - val_loss: 0.0461 - val_accuracy: 0.9863\n",
      "Epoch 6/16\n",
      "48000/48000 [==============================] - 21s 437us/step - loss: 0.0468 - accuracy: 0.9857 - val_loss: 0.0437 - val_accuracy: 0.9870\n",
      "Epoch 7/16\n",
      "48000/48000 [==============================] - 21s 435us/step - loss: 0.0414 - accuracy: 0.9871 - val_loss: 0.0388 - val_accuracy: 0.9888\n",
      "Epoch 8/16\n",
      "48000/48000 [==============================] - 21s 429us/step - loss: 0.0361 - accuracy: 0.9889 - val_loss: 0.0416 - val_accuracy: 0.9879\n",
      "Epoch 9/16\n",
      "48000/48000 [==============================] - 21s 431us/step - loss: 0.0335 - accuracy: 0.9893 - val_loss: 0.0394 - val_accuracy: 0.9883\n",
      "Epoch 10/16\n",
      "48000/48000 [==============================] - 22s 449us/step - loss: 0.0322 - accuracy: 0.9895 - val_loss: 0.0387 - val_accuracy: 0.9889\n",
      "Epoch 11/16\n",
      "48000/48000 [==============================] - 23s 487us/step - loss: 0.0296 - accuracy: 0.9904 - val_loss: 0.0375 - val_accuracy: 0.9892\n",
      "Epoch 12/16\n",
      "48000/48000 [==============================] - 20s 407us/step - loss: 0.0269 - accuracy: 0.9914 - val_loss: 0.0334 - val_accuracy: 0.9905\n",
      "Epoch 13/16\n",
      "48000/48000 [==============================] - 21s 439us/step - loss: 0.0239 - accuracy: 0.9919 - val_loss: 0.0357 - val_accuracy: 0.9900\n",
      "Epoch 14/16\n",
      "48000/48000 [==============================] - 22s 454us/step - loss: 0.0249 - accuracy: 0.9919 - val_loss: 0.0344 - val_accuracy: 0.9900\n",
      "Epoch 15/16\n",
      "48000/48000 [==============================] - 22s 454us/step - loss: 0.0227 - accuracy: 0.9921 - val_loss: 0.0376 - val_accuracy: 0.9902\n",
      "Epoch 16/16\n",
      "48000/48000 [==============================] - 17s 363us/step - loss: 0.0207 - accuracy: 0.9933 - val_loss: 0.0313 - val_accuracy: 0.9921\n"
     ]
    }
   ],
   "source": [
    "# Architecture du modèle\n",
    "lenet = Sequential()\n",
    "\n",
    "conv_1 = Conv2D(filters = 30,                     # Nombre de filtres\n",
    "                kernel_size = (5, 5),            # Dimensions du noyau\n",
    "                padding = 'valid',               # Mode de Dépassement\n",
    "                input_shape = (28, 28, 1),       # Dimensions de l'image en entrée\n",
    "                activation = 'relu')             # Fonction d'activation\n",
    "\n",
    "max_pool_1 = MaxPooling2D(pool_size = (2, 2))\n",
    "\n",
    "conv_2 = Conv2D(filters = 16,                    \n",
    "                kernel_size = (3, 3),          \n",
    "                padding = 'valid',             \n",
    "                activation = 'relu')\n",
    "\n",
    "max_pool_2 = MaxPooling2D(pool_size = (2, 2))\n",
    "\n",
    "flatten = Flatten()\n",
    "\n",
    "dropout = Dropout(rate = 0.2)\n",
    "\n",
    "dense_1 = Dense(units = 128,\n",
    "                activation = 'relu')\n",
    "\n",
    "dense_2 = Dense(units = 10,\n",
    "                activation = 'softmax')\n",
    "\n",
    "lenet.add(conv_1)\n",
    "lenet.add(max_pool_1)\n",
    "lenet.add(conv_2)\n",
    "lenet.add(max_pool_2)\n",
    "\n",
    "lenet.add(dropout)\n",
    "lenet.add(flatten)\n",
    "lenet.add(dense_1)\n",
    "lenet.add(dense_2)\n",
    "\n",
    "# Compilation\n",
    "lenet.compile(loss='categorical_crossentropy',  # fonction de perte\n",
    "              optimizer='adam',                 # algorithme de descente de gradient\n",
    "              metrics=['accuracy'])             # métrique d'évaluation\n",
    "\n",
    "# Entraînement_1\n",
    "training_history_lenet = lenet.fit(X_train, y_train,          # données\n",
    "                                   validation_split = 0.2,    # split de validation\n",
    "                                   epochs = 16,               # nombre d'epochs\n",
    "                                   batch_size = 200)          # taille des batchs"
   ]
  },
  {
   "cell_type": "code",
   "execution_count": 5,
   "metadata": {
    "ExecuteTime": {
     "end_time": "2020-04-13T09:08:56.710688Z",
     "start_time": "2020-04-13T09:08:56.707813Z"
    }
   },
   "outputs": [],
   "source": [
    "train_acc_lenet = training_history_lenet.history['accuracy']\n",
    "val_acc_lenet = training_history_lenet.history['val_accuracy']"
   ]
  },
  {
   "cell_type": "code",
   "execution_count": 6,
   "metadata": {
    "ExecuteTime": {
     "end_time": "2020-04-13T09:13:09.126944Z",
     "start_time": "2020-04-13T09:08:56.725009Z"
    }
   },
   "outputs": [
    {
     "name": "stdout",
     "output_type": "stream",
     "text": [
      "Train on 48000 samples, validate on 12000 samples\n",
      "Epoch 1/16\n",
      "48000/48000 [==============================] - 1s 13us/step - loss: 1.1820 - accuracy: 0.7795 - val_loss: 0.5608 - val_accuracy: 0.8915\n",
      "Epoch 2/16\n",
      "48000/48000 [==============================] - 0s 10us/step - loss: 0.4574 - accuracy: 0.8963 - val_loss: 0.3550 - val_accuracy: 0.9137\n",
      "Epoch 3/16\n",
      "48000/48000 [==============================] - 1s 10us/step - loss: 0.3384 - accuracy: 0.9122 - val_loss: 0.2941 - val_accuracy: 0.9221\n",
      "Epoch 4/16\n",
      "48000/48000 [==============================] - 1s 12us/step - loss: 0.2894 - accuracy: 0.9214 - val_loss: 0.2637 - val_accuracy: 0.9275\n",
      "Epoch 5/16\n",
      "48000/48000 [==============================] - 1s 17us/step - loss: 0.2596 - accuracy: 0.9281 - val_loss: 0.2441 - val_accuracy: 0.9337\n",
      "Epoch 6/16\n",
      "48000/48000 [==============================] - 0s 10us/step - loss: 0.2389 - accuracy: 0.9330 - val_loss: 0.2294 - val_accuracy: 0.9370\n",
      "Epoch 7/16\n",
      "48000/48000 [==============================] - 0s 10us/step - loss: 0.2221 - accuracy: 0.9372 - val_loss: 0.2191 - val_accuracy: 0.9402\n",
      "Epoch 8/16\n",
      "48000/48000 [==============================] - 1s 11us/step - loss: 0.2096 - accuracy: 0.9408 - val_loss: 0.2093 - val_accuracy: 0.9425\n",
      "Epoch 9/16\n",
      "48000/48000 [==============================] - 0s 10us/step - loss: 0.1984 - accuracy: 0.9437 - val_loss: 0.2042 - val_accuracy: 0.9436\n",
      "Epoch 10/16\n",
      "48000/48000 [==============================] - 0s 10us/step - loss: 0.1893 - accuracy: 0.9461 - val_loss: 0.1984 - val_accuracy: 0.9452\n",
      "Epoch 11/16\n",
      "48000/48000 [==============================] - 1s 11us/step - loss: 0.1807 - accuracy: 0.9487 - val_loss: 0.1950 - val_accuracy: 0.9449\n",
      "Epoch 12/16\n",
      "48000/48000 [==============================] - 0s 10us/step - loss: 0.1739 - accuracy: 0.9501 - val_loss: 0.1908 - val_accuracy: 0.9467\n",
      "Epoch 13/16\n",
      "48000/48000 [==============================] - 0s 10us/step - loss: 0.1666 - accuracy: 0.9520 - val_loss: 0.1878 - val_accuracy: 0.9464\n",
      "Epoch 14/16\n",
      "48000/48000 [==============================] - 0s 10us/step - loss: 0.1610 - accuracy: 0.9534 - val_loss: 0.1847 - val_accuracy: 0.9486\n",
      "Epoch 15/16\n",
      "48000/48000 [==============================] - 0s 10us/step - loss: 0.1555 - accuracy: 0.9553 - val_loss: 0.1827 - val_accuracy: 0.9473\n",
      "Epoch 16/16\n",
      "48000/48000 [==============================] - 0s 10us/step - loss: 0.1503 - accuracy: 0.9566 - val_loss: 0.1820 - val_accuracy: 0.9473\n",
      "Train on 48000 samples, validate on 12000 samples\n",
      "Epoch 1/16\n",
      "48000/48000 [==============================] - 15s 316us/step - loss: 0.2993 - accuracy: 0.9124 - val_loss: 0.1068 - val_accuracy: 0.9694\n",
      "Epoch 2/16\n",
      "48000/48000 [==============================] - 15s 322us/step - loss: 0.0881 - accuracy: 0.9744 - val_loss: 0.0760 - val_accuracy: 0.9784\n",
      "Epoch 3/16\n",
      "48000/48000 [==============================] - 16s 334us/step - loss: 0.0614 - accuracy: 0.9817 - val_loss: 0.0609 - val_accuracy: 0.9822\n",
      "Epoch 4/16\n",
      "48000/48000 [==============================] - 16s 337us/step - loss: 0.0464 - accuracy: 0.9861 - val_loss: 0.0525 - val_accuracy: 0.9854\n",
      "Epoch 5/16\n",
      "48000/48000 [==============================] - 15s 323us/step - loss: 0.0401 - accuracy: 0.9876 - val_loss: 0.0479 - val_accuracy: 0.9857\n",
      "Epoch 6/16\n",
      "48000/48000 [==============================] - 15s 308us/step - loss: 0.0318 - accuracy: 0.9898 - val_loss: 0.0469 - val_accuracy: 0.9866\n",
      "Epoch 7/16\n",
      "48000/48000 [==============================] - 15s 309us/step - loss: 0.0257 - accuracy: 0.9925 - val_loss: 0.0449 - val_accuracy: 0.9872\n",
      "Epoch 8/16\n",
      "48000/48000 [==============================] - 13s 280us/step - loss: 0.0233 - accuracy: 0.9925 - val_loss: 0.0459 - val_accuracy: 0.9872\n",
      "Epoch 9/16\n",
      "48000/48000 [==============================] - 14s 297us/step - loss: 0.0185 - accuracy: 0.9942 - val_loss: 0.0443 - val_accuracy: 0.9869\n",
      "Epoch 10/16\n",
      "48000/48000 [==============================] - 16s 336us/step - loss: 0.0163 - accuracy: 0.9950 - val_loss: 0.0412 - val_accuracy: 0.9880\n",
      "Epoch 11/16\n",
      "48000/48000 [==============================] - 15s 308us/step - loss: 0.0143 - accuracy: 0.9953 - val_loss: 0.0451 - val_accuracy: 0.9877\n",
      "Epoch 12/16\n",
      "48000/48000 [==============================] - 18s 371us/step - loss: 0.0125 - accuracy: 0.9960 - val_loss: 0.0430 - val_accuracy: 0.9883\n",
      "Epoch 13/16\n",
      "48000/48000 [==============================] - 16s 334us/step - loss: 0.0102 - accuracy: 0.9968 - val_loss: 0.0465 - val_accuracy: 0.9882\n",
      "Epoch 14/16\n",
      "48000/48000 [==============================] - 16s 336us/step - loss: 0.0101 - accuracy: 0.9963 - val_loss: 0.0428 - val_accuracy: 0.9887\n",
      "Epoch 15/16\n",
      "48000/48000 [==============================] - 13s 275us/step - loss: 0.0084 - accuracy: 0.9974 - val_loss: 0.0460 - val_accuracy: 0.9885\n",
      "Epoch 16/16\n",
      "48000/48000 [==============================] - 14s 283us/step - loss: 0.0076 - accuracy: 0.9973 - val_loss: 0.0434 - val_accuracy: 0.9893\n"
     ]
    }
   ],
   "source": [
    "# COMPARAISON DES 3 RESEAUX DENSE, CNN et LENET\n",
    "# Réseau Dense\n",
    "\n",
    "dense = Sequential()\n",
    "dense_0 = Flatten()\n",
    "dense_1 = Dense(units = 20, input_dim = 784, kernel_initializer ='normal', activation ='tanh')            \n",
    "dense_2 = Dense(units = 10, kernel_initializer ='normal', activation ='softmax')\n",
    "dense.add(dense_0)\n",
    "dense.add(dense_1)\n",
    "dense.add(dense_2)\n",
    "\n",
    "# CNN\n",
    "\n",
    "cnn = Sequential()\n",
    "cnn_1 = Conv2D(filters = 32, kernel_size = (5, 5), padding = 'valid', input_shape = (28, 28, 1), activation = 'relu')\n",
    "cnn_2 = MaxPooling2D(pool_size = (2, 2))\n",
    "cnn_3 = Dropout(rate = 0.2)\n",
    "cnn_4 = Flatten()\n",
    "cnn_5 = Dense(units = 128, activation = 'relu')\n",
    "cnn_6 = Dense(units = 10, activation='softmax')\n",
    "\n",
    "cnn.add(cnn_1)\n",
    "cnn.add(cnn_2)\n",
    "cnn.add(cnn_3)\n",
    "cnn.add(cnn_4)\n",
    "cnn.add(cnn_5)\n",
    "cnn.add(cnn_6)\n",
    "\n",
    "# Compilation\n",
    "dense.compile(loss = 'categorical_crossentropy', optimizer = 'adam', metrics = ['accuracy'])           \n",
    "cnn.compile(loss = 'categorical_crossentropy', optimizer = 'adam', metrics = ['accuracy'])            \n",
    "\n",
    "# Entraînement\n",
    "training_history_dense = dense.fit(X_train, y_train, validation_split = 0.2, epochs = 16, batch_size = 200, verbose = 1)\n",
    "training_history_cnn = cnn.fit(X_train, y_train, validation_split = 0.2, epochs = 16, batch_size = 200, verbose = 1)"
   ]
  },
  {
   "cell_type": "code",
   "execution_count": 7,
   "metadata": {
    "ExecuteTime": {
     "end_time": "2020-04-13T09:13:09.333204Z",
     "start_time": "2020-04-13T09:13:09.129624Z"
    }
   },
   "outputs": [
    {
     "data": {
      "image/png": "[encoded data removed]",
      "text/plain": [
       "<Figure size 432x288 with 1 Axes>"
      ]
     },
     "metadata": {
      "needs_background": "light"
     },
     "output_type": "display_data"
    }
   ],
   "source": [
    "val_acc_dense = training_history_dense.history['val_accuracy']\n",
    "val_acc_cnn = training_history_cnn.history['val_accuracy']\n",
    "\n",
    "# Labels des axes\n",
    "plt.xlabel('Epochs')\n",
    "plt.ylabel('Accuracy')\n",
    "\n",
    "# Courbe du score de validation du réseau Dense\n",
    "plt.plot(np.arange(1 , 17, 1),\n",
    "         val_acc_dense,\n",
    "         label = 'Dense',\n",
    "         color = 'blue')\n",
    "\n",
    "# Courbe du score de validation du réseau CNN\n",
    "plt.plot(np.arange(1 , 17, 1),\n",
    "         val_acc_cnn, \n",
    "         label = 'CNN',\n",
    "         color = 'red')\n",
    "\n",
    "# Courbe du score de validation du réseau LeNet\n",
    "plt.plot(np.arange(1 , 17, 1),\n",
    "         val_acc_lenet, \n",
    "         label = 'LeNet',\n",
    "         color = 'green')\n",
    "\n",
    "# Affichage de la légende\n",
    "plt.legend()\n",
    "\n",
    "# Affichage de la figure\n",
    "plt.show()"
   ]
  },
  {
   "cell_type": "code",
   "execution_count": 8,
   "metadata": {
    "ExecuteTime": {
     "end_time": "2020-04-13T09:13:10.921141Z",
     "start_time": "2020-04-13T09:13:09.336072Z"
    }
   },
   "outputs": [
    {
     "name": "stdout",
     "output_type": "stream",
     "text": [
      "              precision    recall  f1-score   support\n",
      "\n",
      "           0       0.99      1.00      0.99       980\n",
      "           1       1.00      0.99      1.00      1135\n",
      "           2       0.99      0.99      0.99      1032\n",
      "           3       0.99      0.99      0.99      1010\n",
      "           4       1.00      0.99      0.99       982\n",
      "           5       0.99      0.99      0.99       892\n",
      "           6       1.00      0.99      0.99       958\n",
      "           7       0.99      0.99      0.99      1028\n",
      "           8       0.99      0.99      0.99       974\n",
      "           9       0.99      0.99      0.99      1009\n",
      "\n",
      "    accuracy                           0.99     10000\n",
      "   macro avg       0.99      0.99      0.99     10000\n",
      "weighted avg       0.99      0.99      0.99     10000\n",
      "\n"
     ]
    }
   ],
   "source": [
    "test_pred_lenet = lenet.predict(X_test)\n",
    "test_pred_dense = dense.predict(X_test)\n",
    "test_pred_cnn = cnn.predict(X_test)\n",
    "\n",
    "test_pred_lenet_class = test_pred_lenet.argmax(axis = 1)\n",
    "test_pred_dense_class = test_pred_dense.argmax(axis = 1)\n",
    "test_pred_cnn_class = test_pred_cnn.argmax(axis = 1)\n",
    "y_test_class = y_test.argmax(axis = 1)\n",
    "\n",
    "print(metrics.classification_report(y_test_class, test_pred_lenet_class))"
   ]
  },
  {
   "cell_type": "code",
   "execution_count": 12,
   "metadata": {
    "ExecuteTime": {
     "end_time": "2020-04-13T09:17:57.568932Z",
     "start_time": "2020-04-13T09:17:57.204509Z"
    }
   },
   "outputs": [
    {
     "data": {
      "image/png": "[encoded data removed]",
      "text/plain": [
       "<Figure size 432x288 with 2 Axes>"
      ]
     },
     "metadata": {
      "needs_background": "light"
     },
     "output_type": "display_data"
    }
   ],
   "source": [
    "#Réponse valable:\n",
    "cnf_matrix = metrics.confusion_matrix(y_test_class, test_pred_lenet_class)\n",
    "#print(cnf_matrix)\n",
    "\n",
    "###Optionnel: Afficher une matrice de confusion sous forme de tableau coloré\n",
    "classes = range(0,10)\n",
    "\n",
    "plt.figure()\n",
    "\n",
    "plt.imshow(cnf_matrix, interpolation='nearest',cmap='Blues')\n",
    "plt.title(\"Matrice de confusion\")\n",
    "plt.colorbar()\n",
    "tick_marks = np.arange(len(classes))\n",
    "plt.xticks(tick_marks, classes)\n",
    "plt.yticks(tick_marks, classes)\n",
    "\n",
    "for i, j in itertools.product(range(cnf_matrix.shape[0]), range(cnf_matrix.shape[1])):\n",
    "    plt.text(j, i, cnf_matrix[i, j],\n",
    "             horizontalalignment=\"center\",\n",
    "             color=\"white\" if cnf_matrix[i, j] > ( cnf_matrix.max() / 2) else \"black\")\n",
    "\n",
    "plt.ylabel('Vrais labels')\n",
    "plt.xlabel('Labels prédits')\n",
    "plt.show()"
   ]
  },
  {
   "cell_type": "code",
   "execution_count": 9,
   "metadata": {
    "ExecuteTime": {
     "end_time": "2020-04-13T09:13:11.049819Z",
     "start_time": "2020-04-13T09:13:10.924190Z"
    }
   },
   "outputs": [
    {
     "data": {
      "image/png": "[encoded data removed]",
      "text/plain": [
       "<Figure size 432x288 with 3 Axes>"
      ]
     },
     "metadata": {
      "needs_background": "light"
     },
     "output_type": "display_data"
    }
   ],
   "source": [
    "#une représentation de chiffre où les 3 modèles se sont trompés\n",
    "error_indexes = []\n",
    "for i in range(len(test_pred_cnn)):\n",
    "    if (test_pred_lenet_class[i] != y_test_class[i]):\n",
    "        if(test_pred_dense_class[i] != y_test_class[i]):\n",
    "            if(test_pred_cnn_class[i] != y_test_class[i]):\n",
    "                error_indexes += [i]\n",
    "\n",
    "j = 1\n",
    "for i in np.random.choice(error_indexes, size = 3):\n",
    "    img = X_test[i] \n",
    "    img = img.reshape(28, 28)\n",
    "    \n",
    "    plt.subplot(1, 3, j)\n",
    "    j = j + 1\n",
    "    plt.axis('off')\n",
    "    plt.imshow(img,cmap = cm.binary, interpolation='None')\n",
    "    plt.title('True Label: ' + str(y_test_class[i]) \\\n",
    "              + '\\n' + 'Prediction: '+ str(test_pred_lenet_class[i]) \\\n",
    "              + '\\n' + 'Confidence: '+ str(round(test_pred_lenet[i][test_pred_lenet_class[i]], 2)))"
   ]
  },
  {
   "cell_type": "raw",
   "metadata": {},
   "source": [
    "Ce qu'il faut retenir :\n",
    "Les réseaux de neurones construits séquentiellement sont des outils de machine learning désormais accessibles offrant des résultats pouvant surpasser de loin les algorithmes classiques sur des tâches non-triviales.\n",
    "\n",
    "Le schéma pour implémenter un modèle avec keras est très simple:\n",
    "\n",
    "Architecture du modèle\n",
    "Compilation du modèle\n",
    "Entraînement du modèle\n",
    "Diagnostique de l'entraînement\n",
    "Evaluation des prédictions"
   ]
  }
 ],
 "metadata": {
  "kernelspec": {
   "display_name": "Python 3",
   "language": "python",
   "name": "python3"
  },
  "language_info": {
   "codemirror_mode": {
    "name": "ipython",
    "version": 3
   },
   "file_extension": ".py",
   "mimetype": "text/x-python",
   "name": "python",
   "nbconvert_exporter": "python",
   "pygments_lexer": "ipython3",
   "version": "3.7.6"
  }
 },
 "nbformat": 4,
 "nbformat_minor": 4
}
